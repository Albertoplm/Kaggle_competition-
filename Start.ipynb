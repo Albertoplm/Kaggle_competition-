{
 "cells": [
  {
   "cell_type": "markdown",
   "metadata": {},
   "source": [
    "## DATASETS"
   ]
  },
  {
   "cell_type": "code",
   "execution_count": 18,
   "metadata": {},
   "outputs": [
    {
     "name": "stderr",
     "output_type": "stream",
     "text": [
      "x finalQuotes.csv\n"
     ]
    }
   ],
   "source": [
    "!tar -xzvf final-quotes-scraped.zip"
   ]
  },
  {
   "cell_type": "code",
   "execution_count": 23,
   "metadata": {},
   "outputs": [
    {
     "name": "stdout",
     "output_type": "stream",
     "text": [
      "Se han movido         1 archivos.\n"
     ]
    }
   ],
   "source": [
    "!move finalQuotes.csv data/finalQuotes.csv"
   ]
  },
  {
   "cell_type": "markdown",
   "metadata": {},
   "source": [
    "### CHECKING DATASET"
   ]
  },
  {
   "cell_type": "code",
   "execution_count": 3,
   "metadata": {},
   "outputs": [],
   "source": [
    "import numpy as np\n",
    "import pandas as pd\n",
    "import seaborn as sns\n",
    "import matplotlib.pyplot as plt\n",
    "from sklearn.metrics import confusion_matrix, accuracy_score, ConfusionMatrixDisplay, mean_squared_error\n",
    "from sklearn.linear_model import LogisticRegression\n",
    "from sklearn.tree import DecisionTreeClassifier, DecisionTreeRegressor\n",
    "from sklearn.tree import plot_tree"
   ]
  },
  {
   "cell_type": "code",
   "execution_count": 4,
   "metadata": {},
   "outputs": [],
   "source": [
    "df = pd.read_csv('data/train.csv')\n",
    "df.head()\n",
    "df = df.drop(columns=['id'])"
   ]
  },
  {
   "cell_type": "code",
   "execution_count": 5,
   "metadata": {},
   "outputs": [
    {
     "data": {
      "text/plain": [
       "carat      float64\n",
       "cut         object\n",
       "color       object\n",
       "clarity     object\n",
       "depth      float64\n",
       "table      float64\n",
       "x          float64\n",
       "y          float64\n",
       "z          float64\n",
       "price      float64\n",
       "dtype: object"
      ]
     },
     "execution_count": 5,
     "metadata": {},
     "output_type": "execute_result"
    }
   ],
   "source": [
    "df.dtypes"
   ]
  },
  {
   "cell_type": "code",
   "execution_count": 6,
   "metadata": {},
   "outputs": [
    {
     "data": {
      "text/plain": [
       "carat      0\n",
       "cut        0\n",
       "color      0\n",
       "clarity    0\n",
       "depth      0\n",
       "table      0\n",
       "x          0\n",
       "y          0\n",
       "z          0\n",
       "price      0\n",
       "dtype: int64"
      ]
     },
     "execution_count": 6,
     "metadata": {},
     "output_type": "execute_result"
    }
   ],
   "source": [
    "df.isna().sum()"
   ]
  },
  {
   "cell_type": "code",
   "execution_count": 7,
   "metadata": {},
   "outputs": [
    {
     "name": "stdout",
     "output_type": "stream",
     "text": [
      "7.635867669729187\n",
      "7.9535179417738275\n",
      "7.793194586199215\n",
      "7.8515310796074225\n",
      "8.107748562037795\n"
     ]
    }
   ],
   "source": [
    "print(df[df[\"cut\"] == \"Ideal\"].price.mean())\n",
    "print(df[df[\"cut\"] == \"Premium\"].price.mean())\n",
    "print(df[df[\"cut\"] == \"Very Good\"].price.mean())\n",
    "print(df[df[\"cut\"] == \"Good\"].price.mean())\n",
    "print(df[df[\"cut\"] == \"Fair\"].price.mean())"
   ]
  },
  {
   "cell_type": "code",
   "execution_count": 8,
   "metadata": {},
   "outputs": [
    {
     "data": {
      "text/plain": [
       "array(['Premium', 'Good', 'Very Good', 'Ideal', 'Fair'], dtype=object)"
      ]
     },
     "execution_count": 8,
     "metadata": {},
     "output_type": "execute_result"
    }
   ],
   "source": [
    "df.cut.unique()"
   ]
  },
  {
   "cell_type": "code",
   "execution_count": 9,
   "metadata": {},
   "outputs": [
    {
     "data": {
      "text/plain": [
       "array(['G', 'H', 'J', 'F', 'E', 'I', 'D'], dtype=object)"
      ]
     },
     "execution_count": 9,
     "metadata": {},
     "output_type": "execute_result"
    }
   ],
   "source": [
    "df.color.unique()"
   ]
  },
  {
   "cell_type": "code",
   "execution_count": 10,
   "metadata": {},
   "outputs": [
    {
     "name": "stdout",
     "output_type": "stream",
     "text": [
      "7.790458638619653\n",
      "7.918574423480088\n",
      "8.142878232251995\n",
      "7.759400526826526\n",
      "7.577223453749237\n",
      "8.02846274794385\n",
      "7.604446506986018\n"
     ]
    }
   ],
   "source": [
    "print(df[df[\"color\"] == \"G\"].price.mean())\n",
    "print(df[df[\"color\"] == \"H\"].price.mean())\n",
    "print(df[df[\"color\"] == \"J\"].price.mean())\n",
    "print(df[df[\"color\"] == \"F\"].price.mean())\n",
    "print(df[df[\"color\"] == \"E\"].price.mean())\n",
    "print(df[df[\"color\"] == \"I\"].price.mean())\n",
    "print(df[df[\"color\"] == \"D\"].price.mean())"
   ]
  },
  {
   "cell_type": "code",
   "execution_count": 11,
   "metadata": {},
   "outputs": [
    {
     "data": {
      "text/plain": [
       "array(['VS1', 'VS2', 'SI2', 'IF', 'SI1', 'VVS2', 'VVS1', 'I1'],\n",
       "      dtype=object)"
      ]
     },
     "execution_count": 11,
     "metadata": {},
     "output_type": "execute_result"
    }
   ],
   "source": [
    "df.clarity.unique()"
   ]
  },
  {
   "cell_type": "code",
   "execution_count": 12,
   "metadata": {},
   "outputs": [],
   "source": [
    "dic_para_cut = { \"Ideal\":1,\n",
    "                \"Premium\": 2,\n",
    "                \"Very Good\": 3,\n",
    "                \"Good\": 4,\n",
    "                \"Fair\":5,\n",
    "}"
   ]
  },
  {
   "cell_type": "code",
   "execution_count": 13,
   "metadata": {},
   "outputs": [],
   "source": [
    "df.cut = df.cut.map(dic_para_cut)"
   ]
  },
  {
   "cell_type": "code",
   "execution_count": 14,
   "metadata": {},
   "outputs": [
    {
     "data": {
      "text/plain": [
       "array(['G', 'H', 'J', 'F', 'E', 'I', 'D'], dtype=object)"
      ]
     },
     "execution_count": 14,
     "metadata": {},
     "output_type": "execute_result"
    }
   ],
   "source": [
    "df.color.unique()"
   ]
  },
  {
   "cell_type": "code",
   "execution_count": 15,
   "metadata": {},
   "outputs": [],
   "source": [
    "dic_para_color = { \"G\":4,\n",
    "                \"H\": 5,\n",
    "                \"J\": 7,\n",
    "                \"F\": 3,\n",
    "                \"E\":2,\n",
    "                \"I\":6,\n",
    "                \"D\":1,\n",
    "}"
   ]
  },
  {
   "cell_type": "code",
   "execution_count": 16,
   "metadata": {},
   "outputs": [],
   "source": [
    "df.color = df.color.map(dic_para_color)"
   ]
  },
  {
   "cell_type": "code",
   "execution_count": 17,
   "metadata": {},
   "outputs": [
    {
     "data": {
      "text/plain": [
       "array(['VS1', 'VS2', 'SI2', 'IF', 'SI1', 'VVS2', 'VVS1', 'I1'],\n",
       "      dtype=object)"
      ]
     },
     "execution_count": 17,
     "metadata": {},
     "output_type": "execute_result"
    }
   ],
   "source": [
    "df.clarity.unique()"
   ]
  },
  {
   "cell_type": "code",
   "execution_count": 18,
   "metadata": {},
   "outputs": [],
   "source": [
    "dic_para_clarity = { \"VS1\":4,\n",
    "                \"VS2\": 5,\n",
    "                \"SI2\": 7,\n",
    "                \"IF\": 1,\n",
    "                \"SI1\":6,\n",
    "                \"VVS2\":3,\n",
    "                \"VVS1\":2,\n",
    "                \"I1\": 8,\n",
    "}"
   ]
  },
  {
   "cell_type": "code",
   "execution_count": 19,
   "metadata": {},
   "outputs": [],
   "source": [
    "df.clarity = df.clarity.map(dic_para_clarity)"
   ]
  },
  {
   "cell_type": "code",
   "execution_count": 20,
   "metadata": {},
   "outputs": [
    {
     "data": {
      "text/plain": [
       "carat      float64\n",
       "cut          int64\n",
       "color        int64\n",
       "clarity      int64\n",
       "depth      float64\n",
       "table      float64\n",
       "x          float64\n",
       "y          float64\n",
       "z          float64\n",
       "price      float64\n",
       "dtype: object"
      ]
     },
     "execution_count": 20,
     "metadata": {},
     "output_type": "execute_result"
    }
   ],
   "source": [
    "df.dtypes"
   ]
  },
  {
   "cell_type": "code",
   "execution_count": 21,
   "metadata": {},
   "outputs": [
    {
     "data": {
      "text/html": [
       "<div>\n",
       "<style scoped>\n",
       "    .dataframe tbody tr th:only-of-type {\n",
       "        vertical-align: middle;\n",
       "    }\n",
       "\n",
       "    .dataframe tbody tr th {\n",
       "        vertical-align: top;\n",
       "    }\n",
       "\n",
       "    .dataframe thead th {\n",
       "        text-align: right;\n",
       "    }\n",
       "</style>\n",
       "<table border=\"1\" class=\"dataframe\">\n",
       "  <thead>\n",
       "    <tr style=\"text-align: right;\">\n",
       "      <th></th>\n",
       "      <th>carat</th>\n",
       "      <th>cut</th>\n",
       "      <th>color</th>\n",
       "      <th>clarity</th>\n",
       "      <th>depth</th>\n",
       "      <th>table</th>\n",
       "      <th>x</th>\n",
       "      <th>y</th>\n",
       "      <th>z</th>\n",
       "      <th>price</th>\n",
       "    </tr>\n",
       "  </thead>\n",
       "  <tbody>\n",
       "    <tr>\n",
       "      <th>carat</th>\n",
       "      <td>1.000000</td>\n",
       "      <td>0.136512</td>\n",
       "      <td>0.295110</td>\n",
       "      <td>0.353316</td>\n",
       "      <td>0.029747</td>\n",
       "      <td>0.182453</td>\n",
       "      <td>0.974714</td>\n",
       "      <td>0.944353</td>\n",
       "      <td>0.948460</td>\n",
       "      <td>0.920292</td>\n",
       "    </tr>\n",
       "    <tr>\n",
       "      <th>cut</th>\n",
       "      <td>0.136512</td>\n",
       "      <td>1.000000</td>\n",
       "      <td>0.024676</td>\n",
       "      <td>0.188131</td>\n",
       "      <td>0.211912</td>\n",
       "      <td>0.438306</td>\n",
       "      <td>0.128336</td>\n",
       "      <td>0.123047</td>\n",
       "      <td>0.150653</td>\n",
       "      <td>0.090436</td>\n",
       "    </tr>\n",
       "    <tr>\n",
       "      <th>color</th>\n",
       "      <td>0.295110</td>\n",
       "      <td>0.024676</td>\n",
       "      <td>1.000000</td>\n",
       "      <td>-0.023353</td>\n",
       "      <td>0.048786</td>\n",
       "      <td>0.028571</td>\n",
       "      <td>0.273433</td>\n",
       "      <td>0.264744</td>\n",
       "      <td>0.270077</td>\n",
       "      <td>0.158279</td>\n",
       "    </tr>\n",
       "    <tr>\n",
       "      <th>clarity</th>\n",
       "      <td>0.353316</td>\n",
       "      <td>0.188131</td>\n",
       "      <td>-0.023353</td>\n",
       "      <td>1.000000</td>\n",
       "      <td>0.064487</td>\n",
       "      <td>0.164790</td>\n",
       "      <td>0.372429</td>\n",
       "      <td>0.356431</td>\n",
       "      <td>0.365391</td>\n",
       "      <td>0.214705</td>\n",
       "    </tr>\n",
       "    <tr>\n",
       "      <th>depth</th>\n",
       "      <td>0.029747</td>\n",
       "      <td>0.211912</td>\n",
       "      <td>0.048786</td>\n",
       "      <td>0.064487</td>\n",
       "      <td>1.000000</td>\n",
       "      <td>-0.291668</td>\n",
       "      <td>-0.023705</td>\n",
       "      <td>-0.028183</td>\n",
       "      <td>0.095489</td>\n",
       "      <td>0.003437</td>\n",
       "    </tr>\n",
       "    <tr>\n",
       "      <th>table</th>\n",
       "      <td>0.182453</td>\n",
       "      <td>0.438306</td>\n",
       "      <td>0.028571</td>\n",
       "      <td>0.164790</td>\n",
       "      <td>-0.291668</td>\n",
       "      <td>1.000000</td>\n",
       "      <td>0.197420</td>\n",
       "      <td>0.184191</td>\n",
       "      <td>0.152496</td>\n",
       "      <td>0.159969</td>\n",
       "    </tr>\n",
       "    <tr>\n",
       "      <th>x</th>\n",
       "      <td>0.974714</td>\n",
       "      <td>0.128336</td>\n",
       "      <td>0.273433</td>\n",
       "      <td>0.372429</td>\n",
       "      <td>-0.023705</td>\n",
       "      <td>0.197420</td>\n",
       "      <td>1.000000</td>\n",
       "      <td>0.967309</td>\n",
       "      <td>0.966396</td>\n",
       "      <td>0.957815</td>\n",
       "    </tr>\n",
       "    <tr>\n",
       "      <th>y</th>\n",
       "      <td>0.944353</td>\n",
       "      <td>0.123047</td>\n",
       "      <td>0.264744</td>\n",
       "      <td>0.356431</td>\n",
       "      <td>-0.028183</td>\n",
       "      <td>0.184191</td>\n",
       "      <td>0.967309</td>\n",
       "      <td>1.000000</td>\n",
       "      <td>0.941970</td>\n",
       "      <td>0.928896</td>\n",
       "    </tr>\n",
       "    <tr>\n",
       "      <th>z</th>\n",
       "      <td>0.948460</td>\n",
       "      <td>0.150653</td>\n",
       "      <td>0.270077</td>\n",
       "      <td>0.365391</td>\n",
       "      <td>0.095489</td>\n",
       "      <td>0.152496</td>\n",
       "      <td>0.966396</td>\n",
       "      <td>0.941970</td>\n",
       "      <td>1.000000</td>\n",
       "      <td>0.930774</td>\n",
       "    </tr>\n",
       "    <tr>\n",
       "      <th>price</th>\n",
       "      <td>0.920292</td>\n",
       "      <td>0.090436</td>\n",
       "      <td>0.158279</td>\n",
       "      <td>0.214705</td>\n",
       "      <td>0.003437</td>\n",
       "      <td>0.159969</td>\n",
       "      <td>0.957815</td>\n",
       "      <td>0.928896</td>\n",
       "      <td>0.930774</td>\n",
       "      <td>1.000000</td>\n",
       "    </tr>\n",
       "  </tbody>\n",
       "</table>\n",
       "</div>"
      ],
      "text/plain": [
       "            carat       cut     color   clarity     depth     table         x  \\\n",
       "carat    1.000000  0.136512  0.295110  0.353316  0.029747  0.182453  0.974714   \n",
       "cut      0.136512  1.000000  0.024676  0.188131  0.211912  0.438306  0.128336   \n",
       "color    0.295110  0.024676  1.000000 -0.023353  0.048786  0.028571  0.273433   \n",
       "clarity  0.353316  0.188131 -0.023353  1.000000  0.064487  0.164790  0.372429   \n",
       "depth    0.029747  0.211912  0.048786  0.064487  1.000000 -0.291668 -0.023705   \n",
       "table    0.182453  0.438306  0.028571  0.164790 -0.291668  1.000000  0.197420   \n",
       "x        0.974714  0.128336  0.273433  0.372429 -0.023705  0.197420  1.000000   \n",
       "y        0.944353  0.123047  0.264744  0.356431 -0.028183  0.184191  0.967309   \n",
       "z        0.948460  0.150653  0.270077  0.365391  0.095489  0.152496  0.966396   \n",
       "price    0.920292  0.090436  0.158279  0.214705  0.003437  0.159969  0.957815   \n",
       "\n",
       "                y         z     price  \n",
       "carat    0.944353  0.948460  0.920292  \n",
       "cut      0.123047  0.150653  0.090436  \n",
       "color    0.264744  0.270077  0.158279  \n",
       "clarity  0.356431  0.365391  0.214705  \n",
       "depth   -0.028183  0.095489  0.003437  \n",
       "table    0.184191  0.152496  0.159969  \n",
       "x        0.967309  0.966396  0.957815  \n",
       "y        1.000000  0.941970  0.928896  \n",
       "z        0.941970  1.000000  0.930774  \n",
       "price    0.928896  0.930774  1.000000  "
      ]
     },
     "execution_count": 21,
     "metadata": {},
     "output_type": "execute_result"
    }
   ],
   "source": [
    "df.corr()"
   ]
  },
  {
   "cell_type": "code",
   "execution_count": 22,
   "metadata": {},
   "outputs": [
    {
     "data": {
      "text/plain": [
       "<AxesSubplot:>"
      ]
     },
     "execution_count": 22,
     "metadata": {},
     "output_type": "execute_result"
    },
    {
     "data": {
      "image/png": "[encoded data removed]",
      "text/plain": [
       "<Figure size 1800x1440 with 2 Axes>"
      ]
     },
     "metadata": {
      "needs_background": "light"
     },
     "output_type": "display_data"
    }
   ],
   "source": [
    "fig = plt.figure(figsize=(25,20))\n",
    "sns.heatmap(df.corr(), annot = True, cmap = \"coolwarm\")"
   ]
  },
  {
   "cell_type": "code",
   "execution_count": 23,
   "metadata": {},
   "outputs": [],
   "source": [
    "dff = df.drop(columns=['price'])"
   ]
  },
  {
   "cell_type": "code",
   "execution_count": 22,
   "metadata": {},
   "outputs": [
    {
     "data": {
      "text/plain": [
       "<AxesSubplot:>"
      ]
     },
     "execution_count": 22,
     "metadata": {},
     "output_type": "execute_result"
    },
    {
     "data": {
      "image/png": "[encoded data removed]",
      "text/plain": [
       "<Figure size 1800x1440 with 2 Axes>"
      ]
     },
     "metadata": {
      "needs_background": "light"
     },
     "output_type": "display_data"
    }
   ],
   "source": [
    "fig = plt.figure(figsize=(25,20))\n",
    "sns.heatmap(dff.corr(), annot = True, cmap = \"coolwarm\")"
   ]
  },
  {
   "cell_type": "code",
   "execution_count": 23,
   "metadata": {},
   "outputs": [],
   "source": [
    "dff = dff.drop(columns=['carat'])\n",
    "dff = dff.drop(columns=['y'])\n",
    "dff = dff.drop(columns=['z'])"
   ]
  },
  {
   "cell_type": "code",
   "execution_count": 24,
   "metadata": {},
   "outputs": [
    {
     "data": {
      "text/plain": [
       "<AxesSubplot:>"
      ]
     },
     "execution_count": 24,
     "metadata": {},
     "output_type": "execute_result"
    },
    {
     "data": {
      "image/png": "[encoded data removed]",
      "text/plain": [
       "<Figure size 1800x1440 with 2 Axes>"
      ]
     },
     "metadata": {
      "needs_background": "light"
     },
     "output_type": "display_data"
    }
   ],
   "source": [
    "fig = plt.figure(figsize=(25,20))\n",
    "sns.heatmap(dff.corr(), annot = True, cmap = \"coolwarm\")"
   ]
  },
  {
   "cell_type": "code",
   "execution_count": 25,
   "metadata": {},
   "outputs": [
    {
     "data": {
      "text/html": [
       "<div>\n",
       "<style scoped>\n",
       "    .dataframe tbody tr th:only-of-type {\n",
       "        vertical-align: middle;\n",
       "    }\n",
       "\n",
       "    .dataframe tbody tr th {\n",
       "        vertical-align: top;\n",
       "    }\n",
       "\n",
       "    .dataframe thead th {\n",
       "        text-align: right;\n",
       "    }\n",
       "</style>\n",
       "<table border=\"1\" class=\"dataframe\">\n",
       "  <thead>\n",
       "    <tr style=\"text-align: right;\">\n",
       "      <th></th>\n",
       "      <th>cut</th>\n",
       "      <th>color</th>\n",
       "      <th>clarity</th>\n",
       "      <th>depth</th>\n",
       "      <th>table</th>\n",
       "      <th>x</th>\n",
       "    </tr>\n",
       "  </thead>\n",
       "  <tbody>\n",
       "    <tr>\n",
       "      <th>0</th>\n",
       "      <td>2</td>\n",
       "      <td>4</td>\n",
       "      <td>4</td>\n",
       "      <td>62.7</td>\n",
       "      <td>58.0</td>\n",
       "      <td>6.36</td>\n",
       "    </tr>\n",
       "    <tr>\n",
       "      <th>1</th>\n",
       "      <td>4</td>\n",
       "      <td>4</td>\n",
       "      <td>5</td>\n",
       "      <td>64.3</td>\n",
       "      <td>57.0</td>\n",
       "      <td>5.31</td>\n",
       "    </tr>\n",
       "    <tr>\n",
       "      <th>2</th>\n",
       "      <td>2</td>\n",
       "      <td>5</td>\n",
       "      <td>7</td>\n",
       "      <td>59.4</td>\n",
       "      <td>59.0</td>\n",
       "      <td>7.55</td>\n",
       "    </tr>\n",
       "    <tr>\n",
       "      <th>3</th>\n",
       "      <td>3</td>\n",
       "      <td>7</td>\n",
       "      <td>4</td>\n",
       "      <td>63.5</td>\n",
       "      <td>58.0</td>\n",
       "      <td>4.27</td>\n",
       "    </tr>\n",
       "    <tr>\n",
       "      <th>4</th>\n",
       "      <td>3</td>\n",
       "      <td>3</td>\n",
       "      <td>7</td>\n",
       "      <td>62.8</td>\n",
       "      <td>57.0</td>\n",
       "      <td>6.37</td>\n",
       "    </tr>\n",
       "  </tbody>\n",
       "</table>\n",
       "</div>"
      ],
      "text/plain": [
       "   cut  color  clarity  depth  table     x\n",
       "0    2      4        4   62.7   58.0  6.36\n",
       "1    4      4        5   64.3   57.0  5.31\n",
       "2    2      5        7   59.4   59.0  7.55\n",
       "3    3      7        4   63.5   58.0  4.27\n",
       "4    3      3        7   62.8   57.0  6.37"
      ]
     },
     "execution_count": 25,
     "metadata": {},
     "output_type": "execute_result"
    }
   ],
   "source": [
    "dff.head()"
   ]
  },
  {
   "cell_type": "code",
   "execution_count": 26,
   "metadata": {},
   "outputs": [],
   "source": [
    "dff.to_csv('data/features1clean.csv', index=False)"
   ]
  },
  {
   "cell_type": "markdown",
   "metadata": {},
   "source": [
    "### Cleaning test"
   ]
  },
  {
   "cell_type": "code",
   "execution_count": 27,
   "metadata": {},
   "outputs": [
    {
     "data": {
      "text/html": [
       "<div>\n",
       "<style scoped>\n",
       "    .dataframe tbody tr th:only-of-type {\n",
       "        vertical-align: middle;\n",
       "    }\n",
       "\n",
       "    .dataframe tbody tr th {\n",
       "        vertical-align: top;\n",
       "    }\n",
       "\n",
       "    .dataframe thead th {\n",
       "        text-align: right;\n",
       "    }\n",
       "</style>\n",
       "<table border=\"1\" class=\"dataframe\">\n",
       "  <thead>\n",
       "    <tr style=\"text-align: right;\">\n",
       "      <th></th>\n",
       "      <th>carat</th>\n",
       "      <th>cut</th>\n",
       "      <th>color</th>\n",
       "      <th>clarity</th>\n",
       "      <th>depth</th>\n",
       "      <th>table</th>\n",
       "      <th>x</th>\n",
       "      <th>y</th>\n",
       "      <th>z</th>\n",
       "    </tr>\n",
       "  </thead>\n",
       "  <tbody>\n",
       "    <tr>\n",
       "      <th>0</th>\n",
       "      <td>2.01</td>\n",
       "      <td>Ideal</td>\n",
       "      <td>H</td>\n",
       "      <td>SI1</td>\n",
       "      <td>61.9</td>\n",
       "      <td>57.0</td>\n",
       "      <td>8.14</td>\n",
       "      <td>8.05</td>\n",
       "      <td>5.01</td>\n",
       "    </tr>\n",
       "    <tr>\n",
       "      <th>1</th>\n",
       "      <td>0.49</td>\n",
       "      <td>Good</td>\n",
       "      <td>D</td>\n",
       "      <td>VS1</td>\n",
       "      <td>57.5</td>\n",
       "      <td>60.0</td>\n",
       "      <td>5.18</td>\n",
       "      <td>5.25</td>\n",
       "      <td>3.00</td>\n",
       "    </tr>\n",
       "    <tr>\n",
       "      <th>2</th>\n",
       "      <td>1.03</td>\n",
       "      <td>Premium</td>\n",
       "      <td>F</td>\n",
       "      <td>SI1</td>\n",
       "      <td>58.6</td>\n",
       "      <td>62.0</td>\n",
       "      <td>6.65</td>\n",
       "      <td>6.60</td>\n",
       "      <td>3.88</td>\n",
       "    </tr>\n",
       "    <tr>\n",
       "      <th>3</th>\n",
       "      <td>0.90</td>\n",
       "      <td>Very Good</td>\n",
       "      <td>E</td>\n",
       "      <td>SI1</td>\n",
       "      <td>63.0</td>\n",
       "      <td>56.0</td>\n",
       "      <td>6.11</td>\n",
       "      <td>6.15</td>\n",
       "      <td>3.86</td>\n",
       "    </tr>\n",
       "    <tr>\n",
       "      <th>4</th>\n",
       "      <td>0.59</td>\n",
       "      <td>Ideal</td>\n",
       "      <td>D</td>\n",
       "      <td>SI1</td>\n",
       "      <td>62.5</td>\n",
       "      <td>55.0</td>\n",
       "      <td>5.35</td>\n",
       "      <td>5.40</td>\n",
       "      <td>3.36</td>\n",
       "    </tr>\n",
       "  </tbody>\n",
       "</table>\n",
       "</div>"
      ],
      "text/plain": [
       "   carat        cut color clarity  depth  table     x     y     z\n",
       "0   2.01      Ideal     H     SI1   61.9   57.0  8.14  8.05  5.01\n",
       "1   0.49       Good     D     VS1   57.5   60.0  5.18  5.25  3.00\n",
       "2   1.03    Premium     F     SI1   58.6   62.0  6.65  6.60  3.88\n",
       "3   0.90  Very Good     E     SI1   63.0   56.0  6.11  6.15  3.86\n",
       "4   0.59      Ideal     D     SI1   62.5   55.0  5.35  5.40  3.36"
      ]
     },
     "execution_count": 27,
     "metadata": {},
     "output_type": "execute_result"
    }
   ],
   "source": [
    "dftest = pd.read_csv('data/test.csv')\n",
    "dftest = dftest.drop(columns=['id'])\n",
    "dftest.head()"
   ]
  },
  {
   "cell_type": "code",
   "execution_count": 28,
   "metadata": {},
   "outputs": [],
   "source": [
    "dftest = dftest.drop(columns=['carat'])\n",
    "dftest = dftest.drop(columns=['y'])\n",
    "dftest = dftest.drop(columns=['z'])"
   ]
  },
  {
   "cell_type": "code",
   "execution_count": 29,
   "metadata": {},
   "outputs": [],
   "source": [
    "dic_para_cut = { \"Ideal\":1,\n",
    "                \"Premium\": 2,\n",
    "                \"Very Good\": 3,\n",
    "                \"Good\": 4,\n",
    "                \"Fair\":5,\n",
    "}"
   ]
  },
  {
   "cell_type": "code",
   "execution_count": 30,
   "metadata": {},
   "outputs": [],
   "source": [
    "dftest.cut = dftest.cut.map(dic_para_cut)"
   ]
  },
  {
   "cell_type": "code",
   "execution_count": 31,
   "metadata": {},
   "outputs": [
    {
     "data": {
      "text/plain": [
       "array(['H', 'D', 'F', 'E', 'G', 'I', 'J'], dtype=object)"
      ]
     },
     "execution_count": 31,
     "metadata": {},
     "output_type": "execute_result"
    }
   ],
   "source": [
    "dftest.color.unique()"
   ]
  },
  {
   "cell_type": "code",
   "execution_count": 32,
   "metadata": {},
   "outputs": [],
   "source": [
    "dic_para_color = { \"G\":4,\n",
    "                \"H\": 5,\n",
    "                \"J\": 7,\n",
    "                \"F\": 3,\n",
    "                \"E\":2,\n",
    "                \"I\":6,\n",
    "                \"D\":1,\n",
    "}"
   ]
  },
  {
   "cell_type": "code",
   "execution_count": 33,
   "metadata": {},
   "outputs": [],
   "source": [
    "dftest.color = dftest.color.map(dic_para_color)"
   ]
  },
  {
   "cell_type": "code",
   "execution_count": 34,
   "metadata": {},
   "outputs": [
    {
     "data": {
      "text/plain": [
       "array(['SI1', 'VS1', 'VS2', 'SI2', 'VVS1', 'IF', 'VVS2', 'I1'],\n",
       "      dtype=object)"
      ]
     },
     "execution_count": 34,
     "metadata": {},
     "output_type": "execute_result"
    }
   ],
   "source": [
    "dftest.clarity.unique()"
   ]
  },
  {
   "cell_type": "code",
   "execution_count": 35,
   "metadata": {},
   "outputs": [],
   "source": [
    "dic_para_clarity = { \"VS1\":4,\n",
    "                \"VS2\": 5,\n",
    "                \"SI2\": 7,\n",
    "                \"IF\": 1,\n",
    "                \"SI1\":6,\n",
    "                \"VVS2\":3,\n",
    "                \"VVS1\":2,\n",
    "                \"I1\": 8,\n",
    "}"
   ]
  },
  {
   "cell_type": "code",
   "execution_count": 36,
   "metadata": {},
   "outputs": [],
   "source": [
    "dftest.clarity = dftest.clarity.map(dic_para_clarity)"
   ]
  },
  {
   "cell_type": "code",
   "execution_count": 37,
   "metadata": {},
   "outputs": [],
   "source": [
    "dftest.to_csv('data/test1clean.csv', index=False)"
   ]
  },
  {
   "cell_type": "code",
   "execution_count": 38,
   "metadata": {},
   "outputs": [
    {
     "data": {
      "text/html": [
       "<div>\n",
       "<style scoped>\n",
       "    .dataframe tbody tr th:only-of-type {\n",
       "        vertical-align: middle;\n",
       "    }\n",
       "\n",
       "    .dataframe tbody tr th {\n",
       "        vertical-align: top;\n",
       "    }\n",
       "\n",
       "    .dataframe thead th {\n",
       "        text-align: right;\n",
       "    }\n",
       "</style>\n",
       "<table border=\"1\" class=\"dataframe\">\n",
       "  <thead>\n",
       "    <tr style=\"text-align: right;\">\n",
       "      <th></th>\n",
       "      <th>cut</th>\n",
       "      <th>color</th>\n",
       "      <th>clarity</th>\n",
       "      <th>depth</th>\n",
       "      <th>table</th>\n",
       "      <th>x</th>\n",
       "    </tr>\n",
       "  </thead>\n",
       "  <tbody>\n",
       "    <tr>\n",
       "      <th>0</th>\n",
       "      <td>1</td>\n",
       "      <td>5</td>\n",
       "      <td>6</td>\n",
       "      <td>61.9</td>\n",
       "      <td>57.0</td>\n",
       "      <td>8.14</td>\n",
       "    </tr>\n",
       "    <tr>\n",
       "      <th>1</th>\n",
       "      <td>4</td>\n",
       "      <td>1</td>\n",
       "      <td>4</td>\n",
       "      <td>57.5</td>\n",
       "      <td>60.0</td>\n",
       "      <td>5.18</td>\n",
       "    </tr>\n",
       "    <tr>\n",
       "      <th>2</th>\n",
       "      <td>2</td>\n",
       "      <td>3</td>\n",
       "      <td>6</td>\n",
       "      <td>58.6</td>\n",
       "      <td>62.0</td>\n",
       "      <td>6.65</td>\n",
       "    </tr>\n",
       "    <tr>\n",
       "      <th>3</th>\n",
       "      <td>3</td>\n",
       "      <td>2</td>\n",
       "      <td>6</td>\n",
       "      <td>63.0</td>\n",
       "      <td>56.0</td>\n",
       "      <td>6.11</td>\n",
       "    </tr>\n",
       "    <tr>\n",
       "      <th>4</th>\n",
       "      <td>1</td>\n",
       "      <td>1</td>\n",
       "      <td>6</td>\n",
       "      <td>62.5</td>\n",
       "      <td>55.0</td>\n",
       "      <td>5.35</td>\n",
       "    </tr>\n",
       "    <tr>\n",
       "      <th>...</th>\n",
       "      <td>...</td>\n",
       "      <td>...</td>\n",
       "      <td>...</td>\n",
       "      <td>...</td>\n",
       "      <td>...</td>\n",
       "      <td>...</td>\n",
       "    </tr>\n",
       "    <tr>\n",
       "      <th>13480</th>\n",
       "      <td>4</td>\n",
       "      <td>3</td>\n",
       "      <td>8</td>\n",
       "      <td>63.8</td>\n",
       "      <td>57.0</td>\n",
       "      <td>4.72</td>\n",
       "    </tr>\n",
       "    <tr>\n",
       "      <th>13481</th>\n",
       "      <td>3</td>\n",
       "      <td>5</td>\n",
       "      <td>5</td>\n",
       "      <td>63.5</td>\n",
       "      <td>62.0</td>\n",
       "      <td>8.05</td>\n",
       "    </tr>\n",
       "    <tr>\n",
       "      <th>13482</th>\n",
       "      <td>2</td>\n",
       "      <td>6</td>\n",
       "      <td>5</td>\n",
       "      <td>60.5</td>\n",
       "      <td>59.0</td>\n",
       "      <td>8.41</td>\n",
       "    </tr>\n",
       "    <tr>\n",
       "      <th>13483</th>\n",
       "      <td>1</td>\n",
       "      <td>2</td>\n",
       "      <td>7</td>\n",
       "      <td>58.3</td>\n",
       "      <td>62.0</td>\n",
       "      <td>5.20</td>\n",
       "    </tr>\n",
       "    <tr>\n",
       "      <th>13484</th>\n",
       "      <td>2</td>\n",
       "      <td>2</td>\n",
       "      <td>4</td>\n",
       "      <td>61.7</td>\n",
       "      <td>59.0</td>\n",
       "      <td>4.93</td>\n",
       "    </tr>\n",
       "  </tbody>\n",
       "</table>\n",
       "<p>13485 rows × 6 columns</p>\n",
       "</div>"
      ],
      "text/plain": [
       "       cut  color  clarity  depth  table     x\n",
       "0        1      5        6   61.9   57.0  8.14\n",
       "1        4      1        4   57.5   60.0  5.18\n",
       "2        2      3        6   58.6   62.0  6.65\n",
       "3        3      2        6   63.0   56.0  6.11\n",
       "4        1      1        6   62.5   55.0  5.35\n",
       "...    ...    ...      ...    ...    ...   ...\n",
       "13480    4      3        8   63.8   57.0  4.72\n",
       "13481    3      5        5   63.5   62.0  8.05\n",
       "13482    2      6        5   60.5   59.0  8.41\n",
       "13483    1      2        7   58.3   62.0  5.20\n",
       "13484    2      2        4   61.7   59.0  4.93\n",
       "\n",
       "[13485 rows x 6 columns]"
      ]
     },
     "execution_count": 38,
     "metadata": {},
     "output_type": "execute_result"
    }
   ],
   "source": [
    "dftest"
   ]
  },
  {
   "cell_type": "code",
   "execution_count": 24,
   "metadata": {},
   "outputs": [],
   "source": [
    "from sklearn.model_selection import train_test_split"
   ]
  },
  {
   "cell_type": "code",
   "execution_count": 25,
   "metadata": {},
   "outputs": [],
   "source": [
    "X = dff\n",
    "y = df.price"
   ]
  },
  {
   "cell_type": "code",
   "execution_count": 26,
   "metadata": {},
   "outputs": [],
   "source": [
    "X_train, X_test, y_train, y_test = train_test_split(X,y, test_size = 0.2)"
   ]
  },
  {
   "cell_type": "markdown",
   "metadata": {},
   "source": [
    "### LINEAR MODEL"
   ]
  },
  {
   "cell_type": "code",
   "execution_count": 42,
   "metadata": {},
   "outputs": [],
   "source": [
    "from sklearn.linear_model import LinearRegression"
   ]
  },
  {
   "cell_type": "code",
   "execution_count": 43,
   "metadata": {},
   "outputs": [],
   "source": [
    "lr = LinearRegression()"
   ]
  },
  {
   "cell_type": "code",
   "execution_count": 44,
   "metadata": {},
   "outputs": [
    {
     "data": {
      "text/plain": [
       "LinearRegression()"
      ]
     },
     "execution_count": 44,
     "metadata": {},
     "output_type": "execute_result"
    }
   ],
   "source": [
    "lr.fit(X_train,y_train)"
   ]
  },
  {
   "cell_type": "code",
   "execution_count": 45,
   "metadata": {},
   "outputs": [],
   "source": [
    "y_pred = lr.predict(X_test)"
   ]
  },
  {
   "cell_type": "code",
   "execution_count": 46,
   "metadata": {},
   "outputs": [],
   "source": [
    "from sklearn import metrics"
   ]
  },
  {
   "cell_type": "code",
   "execution_count": 47,
   "metadata": {},
   "outputs": [
    {
     "name": "stdout",
     "output_type": "stream",
     "text": [
      "R2:  0.9595193834160494\n"
     ]
    }
   ],
   "source": [
    "print(\"R2: \", metrics.r2_score(y_test,y_pred))"
   ]
  },
  {
   "cell_type": "code",
   "execution_count": 48,
   "metadata": {},
   "outputs": [
    {
     "name": "stdout",
     "output_type": "stream",
     "text": [
      "MSE:  0.041324838470166075\n"
     ]
    }
   ],
   "source": [
    "print(\"MSE: \", metrics.mean_squared_error(y_test,y_pred))"
   ]
  },
  {
   "cell_type": "code",
   "execution_count": 49,
   "metadata": {},
   "outputs": [
    {
     "data": {
      "text/plain": [
       "array([6.70014991, 7.76328912, 9.82721495, ..., 7.77056772, 7.30503114,\n",
       "       8.25223162])"
      ]
     },
     "execution_count": 49,
     "metadata": {},
     "output_type": "execute_result"
    }
   ],
   "source": [
    "y_pred"
   ]
  },
  {
   "cell_type": "code",
   "execution_count": 50,
   "metadata": {},
   "outputs": [],
   "source": [
    "y_pred = pd.DataFrame(data=y_pred)"
   ]
  },
  {
   "cell_type": "code",
   "execution_count": 51,
   "metadata": {},
   "outputs": [],
   "source": [
    "y_pred[\"price\"] = y_pred[0]"
   ]
  },
  {
   "cell_type": "markdown",
   "metadata": {},
   "source": [
    "### TREE"
   ]
  },
  {
   "cell_type": "code",
   "execution_count": 28,
   "metadata": {},
   "outputs": [],
   "source": [
    "model = DecisionTreeRegressor(max_depth=50, min_samples_split=30, max_features=6, random_state=666)"
   ]
  },
  {
   "cell_type": "code",
   "execution_count": 29,
   "metadata": {},
   "outputs": [
    {
     "ename": "NameError",
     "evalue": "name 'X_train' is not defined",
     "output_type": "error",
     "traceback": [
      "\u001b[1;31m---------------------------------------------------------------------------\u001b[0m",
      "\u001b[1;31mNameError\u001b[0m                                 Traceback (most recent call last)",
      "\u001b[1;32m<ipython-input-29-d768f88d541e>\u001b[0m in \u001b[0;36m<module>\u001b[1;34m\u001b[0m\n\u001b[1;32m----> 1\u001b[1;33m \u001b[0mmodel\u001b[0m\u001b[1;33m.\u001b[0m\u001b[0mfit\u001b[0m\u001b[1;33m(\u001b[0m\u001b[0mX_train\u001b[0m\u001b[1;33m,\u001b[0m \u001b[0my_train\u001b[0m\u001b[1;33m)\u001b[0m\u001b[1;33m\u001b[0m\u001b[1;33m\u001b[0m\u001b[0m\n\u001b[0m",
      "\u001b[1;31mNameError\u001b[0m: name 'X_train' is not defined"
     ]
    }
   ],
   "source": [
    "model.fit(X_train, y_train)"
   ]
  },
  {
   "cell_type": "code",
   "execution_count": 54,
   "metadata": {},
   "outputs": [
    {
     "name": "stdout",
     "output_type": "stream",
     "text": [
      "train error: 0.009007817826779983\n",
      "test error: 0.015289210435048245\n"
     ]
    }
   ],
   "source": [
    "print(f\"train error: {mean_squared_error(y_train, model.predict(X_train))}\")\n",
    "print(f\"test error: {mean_squared_error(y_test, model.predict(X_test))}\")"
   ]
  },
  {
   "cell_type": "code",
   "execution_count": 27,
   "metadata": {},
   "outputs": [],
   "source": [
    "from sklearn.model_selection import GridSearchCV"
   ]
  },
  {
   "cell_type": "code",
   "execution_count": 56,
   "metadata": {},
   "outputs": [],
   "source": [
    "gs = GridSearchCV(\n",
    "    estimator=DecisionTreeRegressor(),\n",
    "    param_grid={\n",
    "        \"max_depth\": [10, 11, 12, 13, 14 ,15, 16, 17, 18, 19,20,21],\n",
    "        \"min_samples_split\": [19,20,21,22,23,24,25, 30,31,32,33,34,35,36,37],\n",
    "        \"max_features\": [6]\n",
    "    },\n",
    "    cv=6,\n",
    "    verbose=3,\n",
    "    scoring=\"neg_mean_squared_error\",\n",
    "    return_train_score=True\n",
    ")"
   ]
  },
  {
   "cell_type": "code",
   "execution_count": 58,
   "metadata": {},
   "outputs": [],
   "source": [
    "gs.fit(X_train, y_train)"
   ]
  },
  {
   "cell_type": "code",
   "execution_count": null,
   "metadata": {},
   "outputs": [],
   "source": [
    "grid_search_results = pd.DataFrame(gs.cv_results_)\n",
    "# we only keep some of the information\n",
    "grid_search_results = grid_search_results[['param_max_depth', 'param_max_features', 'param_min_samples_split',\n",
    "       'mean_test_score', 'mean_train_score']]"
   ]
  },
  {
   "cell_type": "code",
   "execution_count": null,
   "metadata": {},
   "outputs": [],
   "source": [
    "grid_search_results.sort_values(\"mean_test_score\", ascending=False).head(10)"
   ]
  },
  {
   "cell_type": "code",
   "execution_count": null,
   "metadata": {},
   "outputs": [],
   "source": [
    "best_tree = gs.best_estimator_"
   ]
  },
  {
   "cell_type": "code",
   "execution_count": null,
   "metadata": {},
   "outputs": [],
   "source": [
    "best_tree"
   ]
  },
  {
   "cell_type": "code",
   "execution_count": null,
   "metadata": {},
   "outputs": [],
   "source": [
    "mean_squared_error(best_tree.predict(X_test), y_test)"
   ]
  },
  {
   "cell_type": "markdown",
   "metadata": {},
   "source": [
    "### Gradientboost"
   ]
  },
  {
   "cell_type": "code",
   "execution_count": 28,
   "metadata": {},
   "outputs": [],
   "source": [
    "from sklearn.ensemble import GradientBoostingRegressor"
   ]
  },
  {
   "cell_type": "code",
   "execution_count": 33,
   "metadata": {},
   "outputs": [],
   "source": [
    "gs = GridSearchCV(\n",
    "    estimator=GradientBoostingRegressor(),\n",
    "    param_grid={\n",
    "        \"max_depth\": [7,8,9,10],\n",
    "        \"min_samples_split\": [7,8,9,10,11,18,19,20],\n",
    "        \"max_features\": [6],\n",
    "        \"n_estimators\": [80]\n",
    "    },\n",
    "    cv=5,\n",
    "    verbose=3,\n",
    "    scoring=\"neg_mean_squared_error\",\n",
    "    return_train_score=True\n",
    ")"
   ]
  },
  {
   "cell_type": "code",
   "execution_count": 34,
   "metadata": {
    "collapsed": true,
    "jupyter": {
     "outputs_hidden": true
    }
   },
   "outputs": [
    {
     "name": "stdout",
     "output_type": "stream",
     "text": [
      "Fitting 5 folds for each of 32 candidates, totalling 160 fits\n",
      "[CV] max_depth=7, max_features=6, min_samples_split=7, n_estimators=80 \n"
     ]
    },
    {
     "name": "stderr",
     "output_type": "stream",
     "text": [
      "[Parallel(n_jobs=1)]: Using backend SequentialBackend with 1 concurrent workers.\n"
     ]
    },
    {
     "name": "stdout",
     "output_type": "stream",
     "text": [
      "[CV]  max_depth=7, max_features=6, min_samples_split=7, n_estimators=80, score=(train=-0.006, test=-0.008), total=   2.4s\n",
      "[CV] max_depth=7, max_features=6, min_samples_split=7, n_estimators=80 \n"
     ]
    },
    {
     "name": "stderr",
     "output_type": "stream",
     "text": [
      "[Parallel(n_jobs=1)]: Done   1 out of   1 | elapsed:    2.4s remaining:    0.0s\n"
     ]
    },
    {
     "name": "stdout",
     "output_type": "stream",
     "text": [
      "[CV]  max_depth=7, max_features=6, min_samples_split=7, n_estimators=80, score=(train=-0.006, test=-0.007), total=   2.4s\n",
      "[CV] max_depth=7, max_features=6, min_samples_split=7, n_estimators=80 \n"
     ]
    },
    {
     "name": "stderr",
     "output_type": "stream",
     "text": [
      "[Parallel(n_jobs=1)]: Done   2 out of   2 | elapsed:    4.9s remaining:    0.0s\n"
     ]
    },
    {
     "name": "stdout",
     "output_type": "stream",
     "text": [
      "[CV]  max_depth=7, max_features=6, min_samples_split=7, n_estimators=80, score=(train=-0.006, test=-0.008), total=   2.4s\n",
      "[CV] max_depth=7, max_features=6, min_samples_split=7, n_estimators=80 \n",
      "[CV]  max_depth=7, max_features=6, min_samples_split=7, n_estimators=80, score=(train=-0.006, test=-0.008), total=   2.4s\n",
      "[CV] max_depth=7, max_features=6, min_samples_split=7, n_estimators=80 \n",
      "[CV]  max_depth=7, max_features=6, min_samples_split=7, n_estimators=80, score=(train=-0.006, test=-0.008), total=   2.5s\n",
      "[CV] max_depth=7, max_features=6, min_samples_split=8, n_estimators=80 \n",
      "[CV]  max_depth=7, max_features=6, min_samples_split=8, n_estimators=80, score=(train=-0.006, test=-0.008), total=   2.4s\n",
      "[CV] max_depth=7, max_features=6, min_samples_split=8, n_estimators=80 \n",
      "[CV]  max_depth=7, max_features=6, min_samples_split=8, n_estimators=80, score=(train=-0.006, test=-0.008), total=   2.4s\n",
      "[CV] max_depth=7, max_features=6, min_samples_split=8, n_estimators=80 \n",
      "[CV]  max_depth=7, max_features=6, min_samples_split=8, n_estimators=80, score=(train=-0.006, test=-0.008), total=   2.4s\n",
      "[CV] max_depth=7, max_features=6, min_samples_split=8, n_estimators=80 \n",
      "[CV]  max_depth=7, max_features=6, min_samples_split=8, n_estimators=80, score=(train=-0.006, test=-0.008), total=   2.4s\n",
      "[CV] max_depth=7, max_features=6, min_samples_split=8, n_estimators=80 \n",
      "[CV]  max_depth=7, max_features=6, min_samples_split=8, n_estimators=80, score=(train=-0.006, test=-0.008), total=   2.4s\n",
      "[CV] max_depth=7, max_features=6, min_samples_split=9, n_estimators=80 \n",
      "[CV]  max_depth=7, max_features=6, min_samples_split=9, n_estimators=80, score=(train=-0.006, test=-0.008), total=   2.4s\n",
      "[CV] max_depth=7, max_features=6, min_samples_split=9, n_estimators=80 \n",
      "[CV]  max_depth=7, max_features=6, min_samples_split=9, n_estimators=80, score=(train=-0.006, test=-0.008), total=   2.4s\n",
      "[CV] max_depth=7, max_features=6, min_samples_split=9, n_estimators=80 \n",
      "[CV]  max_depth=7, max_features=6, min_samples_split=9, n_estimators=80, score=(train=-0.006, test=-0.008), total=   2.4s\n",
      "[CV] max_depth=7, max_features=6, min_samples_split=9, n_estimators=80 \n",
      "[CV]  max_depth=7, max_features=6, min_samples_split=9, n_estimators=80, score=(train=-0.006, test=-0.008), total=   2.4s\n",
      "[CV] max_depth=7, max_features=6, min_samples_split=9, n_estimators=80 \n",
      "[CV]  max_depth=7, max_features=6, min_samples_split=9, n_estimators=80, score=(train=-0.006, test=-0.008), total=   2.4s\n",
      "[CV] max_depth=7, max_features=6, min_samples_split=10, n_estimators=80 \n",
      "[CV]  max_depth=7, max_features=6, min_samples_split=10, n_estimators=80, score=(train=-0.006, test=-0.008), total=   2.4s\n",
      "[CV] max_depth=7, max_features=6, min_samples_split=10, n_estimators=80 \n",
      "[CV]  max_depth=7, max_features=6, min_samples_split=10, n_estimators=80, score=(train=-0.006, test=-0.007), total=   2.4s\n",
      "[CV] max_depth=7, max_features=6, min_samples_split=10, n_estimators=80 \n",
      "[CV]  max_depth=7, max_features=6, min_samples_split=10, n_estimators=80, score=(train=-0.006, test=-0.008), total=   2.4s\n",
      "[CV] max_depth=7, max_features=6, min_samples_split=10, n_estimators=80 \n",
      "[CV]  max_depth=7, max_features=6, min_samples_split=10, n_estimators=80, score=(train=-0.006, test=-0.008), total=   2.4s\n",
      "[CV] max_depth=7, max_features=6, min_samples_split=10, n_estimators=80 \n",
      "[CV]  max_depth=7, max_features=6, min_samples_split=10, n_estimators=80, score=(train=-0.006, test=-0.008), total=   2.4s\n",
      "[CV] max_depth=7, max_features=6, min_samples_split=11, n_estimators=80 \n",
      "[CV]  max_depth=7, max_features=6, min_samples_split=11, n_estimators=80, score=(train=-0.006, test=-0.008), total=   2.4s\n",
      "[CV] max_depth=7, max_features=6, min_samples_split=11, n_estimators=80 \n",
      "[CV]  max_depth=7, max_features=6, min_samples_split=11, n_estimators=80, score=(train=-0.006, test=-0.007), total=   2.4s\n",
      "[CV] max_depth=7, max_features=6, min_samples_split=11, n_estimators=80 \n",
      "[CV]  max_depth=7, max_features=6, min_samples_split=11, n_estimators=80, score=(train=-0.006, test=-0.008), total=   2.4s\n",
      "[CV] max_depth=7, max_features=6, min_samples_split=11, n_estimators=80 \n",
      "[CV]  max_depth=7, max_features=6, min_samples_split=11, n_estimators=80, score=(train=-0.006, test=-0.008), total=   2.4s\n",
      "[CV] max_depth=7, max_features=6, min_samples_split=11, n_estimators=80 \n",
      "[CV]  max_depth=7, max_features=6, min_samples_split=11, n_estimators=80, score=(train=-0.006, test=-0.008), total=   2.4s\n",
      "[CV] max_depth=7, max_features=6, min_samples_split=18, n_estimators=80 \n",
      "[CV]  max_depth=7, max_features=6, min_samples_split=18, n_estimators=80, score=(train=-0.006, test=-0.008), total=   2.4s\n",
      "[CV] max_depth=7, max_features=6, min_samples_split=18, n_estimators=80 \n",
      "[CV]  max_depth=7, max_features=6, min_samples_split=18, n_estimators=80, score=(train=-0.006, test=-0.007), total=   2.4s\n",
      "[CV] max_depth=7, max_features=6, min_samples_split=18, n_estimators=80 \n",
      "[CV]  max_depth=7, max_features=6, min_samples_split=18, n_estimators=80, score=(train=-0.006, test=-0.008), total=   2.4s\n",
      "[CV] max_depth=7, max_features=6, min_samples_split=18, n_estimators=80 \n",
      "[CV]  max_depth=7, max_features=6, min_samples_split=18, n_estimators=80, score=(train=-0.006, test=-0.008), total=   2.4s\n",
      "[CV] max_depth=7, max_features=6, min_samples_split=18, n_estimators=80 \n",
      "[CV]  max_depth=7, max_features=6, min_samples_split=18, n_estimators=80, score=(train=-0.006, test=-0.008), total=   2.4s\n",
      "[CV] max_depth=7, max_features=6, min_samples_split=19, n_estimators=80 \n",
      "[CV]  max_depth=7, max_features=6, min_samples_split=19, n_estimators=80, score=(train=-0.006, test=-0.008), total=   2.4s\n",
      "[CV] max_depth=7, max_features=6, min_samples_split=19, n_estimators=80 \n",
      "[CV]  max_depth=7, max_features=6, min_samples_split=19, n_estimators=80, score=(train=-0.006, test=-0.008), total=   2.4s\n",
      "[CV] max_depth=7, max_features=6, min_samples_split=19, n_estimators=80 \n",
      "[CV]  max_depth=7, max_features=6, min_samples_split=19, n_estimators=80, score=(train=-0.006, test=-0.008), total=   2.4s\n",
      "[CV] max_depth=7, max_features=6, min_samples_split=19, n_estimators=80 \n",
      "[CV]  max_depth=7, max_features=6, min_samples_split=19, n_estimators=80, score=(train=-0.006, test=-0.008), total=   2.4s\n",
      "[CV] max_depth=7, max_features=6, min_samples_split=19, n_estimators=80 \n",
      "[CV]  max_depth=7, max_features=6, min_samples_split=19, n_estimators=80, score=(train=-0.006, test=-0.008), total=   2.4s\n",
      "[CV] max_depth=7, max_features=6, min_samples_split=20, n_estimators=80 \n",
      "[CV]  max_depth=7, max_features=6, min_samples_split=20, n_estimators=80, score=(train=-0.006, test=-0.008), total=   2.4s\n",
      "[CV] max_depth=7, max_features=6, min_samples_split=20, n_estimators=80 \n",
      "[CV]  max_depth=7, max_features=6, min_samples_split=20, n_estimators=80, score=(train=-0.006, test=-0.007), total=   2.4s\n",
      "[CV] max_depth=7, max_features=6, min_samples_split=20, n_estimators=80 \n",
      "[CV]  max_depth=7, max_features=6, min_samples_split=20, n_estimators=80, score=(train=-0.006, test=-0.008), total=   2.4s\n",
      "[CV] max_depth=7, max_features=6, min_samples_split=20, n_estimators=80 \n",
      "[CV]  max_depth=7, max_features=6, min_samples_split=20, n_estimators=80, score=(train=-0.006, test=-0.008), total=   2.4s\n",
      "[CV] max_depth=7, max_features=6, min_samples_split=20, n_estimators=80 \n",
      "[CV]  max_depth=7, max_features=6, min_samples_split=20, n_estimators=80, score=(train=-0.006, test=-0.008), total=   2.4s\n",
      "[CV] max_depth=8, max_features=6, min_samples_split=7, n_estimators=80 \n",
      "[CV]  max_depth=8, max_features=6, min_samples_split=7, n_estimators=80, score=(train=-0.005, test=-0.008), total=   2.8s\n",
      "[CV] max_depth=8, max_features=6, min_samples_split=7, n_estimators=80 \n",
      "[CV]  max_depth=8, max_features=6, min_samples_split=7, n_estimators=80, score=(train=-0.005, test=-0.007), total=   2.7s\n",
      "[CV] max_depth=8, max_features=6, min_samples_split=7, n_estimators=80 \n",
      "[CV]  max_depth=8, max_features=6, min_samples_split=7, n_estimators=80, score=(train=-0.005, test=-0.008), total=   2.7s\n",
      "[CV] max_depth=8, max_features=6, min_samples_split=7, n_estimators=80 \n",
      "[CV]  max_depth=8, max_features=6, min_samples_split=7, n_estimators=80, score=(train=-0.005, test=-0.008), total=   2.7s\n",
      "[CV] max_depth=8, max_features=6, min_samples_split=7, n_estimators=80 \n",
      "[CV]  max_depth=8, max_features=6, min_samples_split=7, n_estimators=80, score=(train=-0.005, test=-0.008), total=   2.7s\n",
      "[CV] max_depth=8, max_features=6, min_samples_split=8, n_estimators=80 \n",
      "[CV]  max_depth=8, max_features=6, min_samples_split=8, n_estimators=80, score=(train=-0.005, test=-0.008), total=   2.7s\n",
      "[CV] max_depth=8, max_features=6, min_samples_split=8, n_estimators=80 \n",
      "[CV]  max_depth=8, max_features=6, min_samples_split=8, n_estimators=80, score=(train=-0.005, test=-0.007), total=   2.7s\n",
      "[CV] max_depth=8, max_features=6, min_samples_split=8, n_estimators=80 \n",
      "[CV]  max_depth=8, max_features=6, min_samples_split=8, n_estimators=80, score=(train=-0.005, test=-0.008), total=   2.8s\n",
      "[CV] max_depth=8, max_features=6, min_samples_split=8, n_estimators=80 \n",
      "[CV]  max_depth=8, max_features=6, min_samples_split=8, n_estimators=80, score=(train=-0.005, test=-0.008), total=   2.7s\n",
      "[CV] max_depth=8, max_features=6, min_samples_split=8, n_estimators=80 \n",
      "[CV]  max_depth=8, max_features=6, min_samples_split=8, n_estimators=80, score=(train=-0.005, test=-0.007), total=   2.7s\n",
      "[CV] max_depth=8, max_features=6, min_samples_split=9, n_estimators=80 \n",
      "[CV]  max_depth=8, max_features=6, min_samples_split=9, n_estimators=80, score=(train=-0.005, test=-0.008), total=   2.8s\n",
      "[CV] max_depth=8, max_features=6, min_samples_split=9, n_estimators=80 \n",
      "[CV]  max_depth=8, max_features=6, min_samples_split=9, n_estimators=80, score=(train=-0.005, test=-0.007), total=   2.7s\n",
      "[CV] max_depth=8, max_features=6, min_samples_split=9, n_estimators=80 \n",
      "[CV]  max_depth=8, max_features=6, min_samples_split=9, n_estimators=80, score=(train=-0.005, test=-0.008), total=   2.7s\n",
      "[CV] max_depth=8, max_features=6, min_samples_split=9, n_estimators=80 \n",
      "[CV]  max_depth=8, max_features=6, min_samples_split=9, n_estimators=80, score=(train=-0.005, test=-0.008), total=   2.7s\n",
      "[CV] max_depth=8, max_features=6, min_samples_split=9, n_estimators=80 \n",
      "[CV]  max_depth=8, max_features=6, min_samples_split=9, n_estimators=80, score=(train=-0.005, test=-0.008), total=   2.7s\n",
      "[CV] max_depth=8, max_features=6, min_samples_split=10, n_estimators=80 \n",
      "[CV]  max_depth=8, max_features=6, min_samples_split=10, n_estimators=80, score=(train=-0.005, test=-0.008), total=   2.7s\n",
      "[CV] max_depth=8, max_features=6, min_samples_split=10, n_estimators=80 \n",
      "[CV]  max_depth=8, max_features=6, min_samples_split=10, n_estimators=80, score=(train=-0.005, test=-0.007), total=   2.7s\n",
      "[CV] max_depth=8, max_features=6, min_samples_split=10, n_estimators=80 \n",
      "[CV]  max_depth=8, max_features=6, min_samples_split=10, n_estimators=80, score=(train=-0.005, test=-0.008), total=   2.7s\n",
      "[CV] max_depth=8, max_features=6, min_samples_split=10, n_estimators=80 \n",
      "[CV]  max_depth=8, max_features=6, min_samples_split=10, n_estimators=80, score=(train=-0.005, test=-0.008), total=   2.7s\n",
      "[CV] max_depth=8, max_features=6, min_samples_split=10, n_estimators=80 \n",
      "[CV]  max_depth=8, max_features=6, min_samples_split=10, n_estimators=80, score=(train=-0.005, test=-0.007), total=   2.7s\n",
      "[CV] max_depth=8, max_features=6, min_samples_split=11, n_estimators=80 \n",
      "[CV]  max_depth=8, max_features=6, min_samples_split=11, n_estimators=80, score=(train=-0.005, test=-0.008), total=   2.7s\n",
      "[CV] max_depth=8, max_features=6, min_samples_split=11, n_estimators=80 \n",
      "[CV]  max_depth=8, max_features=6, min_samples_split=11, n_estimators=80, score=(train=-0.005, test=-0.007), total=   2.7s\n",
      "[CV] max_depth=8, max_features=6, min_samples_split=11, n_estimators=80 \n",
      "[CV]  max_depth=8, max_features=6, min_samples_split=11, n_estimators=80, score=(train=-0.005, test=-0.008), total=   2.8s\n",
      "[CV] max_depth=8, max_features=6, min_samples_split=11, n_estimators=80 \n",
      "[CV]  max_depth=8, max_features=6, min_samples_split=11, n_estimators=80, score=(train=-0.005, test=-0.008), total=   2.7s\n",
      "[CV] max_depth=8, max_features=6, min_samples_split=11, n_estimators=80 \n",
      "[CV]  max_depth=8, max_features=6, min_samples_split=11, n_estimators=80, score=(train=-0.005, test=-0.008), total=   2.7s\n",
      "[CV] max_depth=8, max_features=6, min_samples_split=18, n_estimators=80 \n",
      "[CV]  max_depth=8, max_features=6, min_samples_split=18, n_estimators=80, score=(train=-0.005, test=-0.008), total=   2.7s\n",
      "[CV] max_depth=8, max_features=6, min_samples_split=18, n_estimators=80 \n",
      "[CV]  max_depth=8, max_features=6, min_samples_split=18, n_estimators=80, score=(train=-0.005, test=-0.007), total=   2.7s\n",
      "[CV] max_depth=8, max_features=6, min_samples_split=18, n_estimators=80 \n",
      "[CV]  max_depth=8, max_features=6, min_samples_split=18, n_estimators=80, score=(train=-0.005, test=-0.008), total=   2.7s\n",
      "[CV] max_depth=8, max_features=6, min_samples_split=18, n_estimators=80 \n",
      "[CV]  max_depth=8, max_features=6, min_samples_split=18, n_estimators=80, score=(train=-0.005, test=-0.008), total=   2.7s\n",
      "[CV] max_depth=8, max_features=6, min_samples_split=18, n_estimators=80 \n",
      "[CV]  max_depth=8, max_features=6, min_samples_split=18, n_estimators=80, score=(train=-0.005, test=-0.008), total=   2.7s\n",
      "[CV] max_depth=8, max_features=6, min_samples_split=19, n_estimators=80 \n",
      "[CV]  max_depth=8, max_features=6, min_samples_split=19, n_estimators=80, score=(train=-0.005, test=-0.008), total=   2.7s\n",
      "[CV] max_depth=8, max_features=6, min_samples_split=19, n_estimators=80 \n",
      "[CV]  max_depth=8, max_features=6, min_samples_split=19, n_estimators=80, score=(train=-0.005, test=-0.007), total=   2.7s\n",
      "[CV] max_depth=8, max_features=6, min_samples_split=19, n_estimators=80 \n",
      "[CV]  max_depth=8, max_features=6, min_samples_split=19, n_estimators=80, score=(train=-0.005, test=-0.008), total=   2.7s\n",
      "[CV] max_depth=8, max_features=6, min_samples_split=19, n_estimators=80 \n",
      "[CV]  max_depth=8, max_features=6, min_samples_split=19, n_estimators=80, score=(train=-0.005, test=-0.008), total=   2.7s\n",
      "[CV] max_depth=8, max_features=6, min_samples_split=19, n_estimators=80 \n",
      "[CV]  max_depth=8, max_features=6, min_samples_split=19, n_estimators=80, score=(train=-0.005, test=-0.007), total=   2.7s\n",
      "[CV] max_depth=8, max_features=6, min_samples_split=20, n_estimators=80 \n",
      "[CV]  max_depth=8, max_features=6, min_samples_split=20, n_estimators=80, score=(train=-0.005, test=-0.008), total=   2.7s\n",
      "[CV] max_depth=8, max_features=6, min_samples_split=20, n_estimators=80 \n",
      "[CV]  max_depth=8, max_features=6, min_samples_split=20, n_estimators=80, score=(train=-0.005, test=-0.007), total=   2.7s\n",
      "[CV] max_depth=8, max_features=6, min_samples_split=20, n_estimators=80 \n",
      "[CV]  max_depth=8, max_features=6, min_samples_split=20, n_estimators=80, score=(train=-0.005, test=-0.008), total=   2.7s\n",
      "[CV] max_depth=8, max_features=6, min_samples_split=20, n_estimators=80 \n",
      "[CV]  max_depth=8, max_features=6, min_samples_split=20, n_estimators=80, score=(train=-0.005, test=-0.008), total=   2.7s\n",
      "[CV] max_depth=8, max_features=6, min_samples_split=20, n_estimators=80 \n",
      "[CV]  max_depth=8, max_features=6, min_samples_split=20, n_estimators=80, score=(train=-0.005, test=-0.007), total=   2.7s\n",
      "[CV] max_depth=9, max_features=6, min_samples_split=7, n_estimators=80 \n",
      "[CV]  max_depth=9, max_features=6, min_samples_split=7, n_estimators=80, score=(train=-0.004, test=-0.008), total=   3.1s\n",
      "[CV] max_depth=9, max_features=6, min_samples_split=7, n_estimators=80 \n",
      "[CV]  max_depth=9, max_features=6, min_samples_split=7, n_estimators=80, score=(train=-0.004, test=-0.007), total=   3.1s\n",
      "[CV] max_depth=9, max_features=6, min_samples_split=7, n_estimators=80 \n",
      "[CV]  max_depth=9, max_features=6, min_samples_split=7, n_estimators=80, score=(train=-0.004, test=-0.008), total=   3.1s\n",
      "[CV] max_depth=9, max_features=6, min_samples_split=7, n_estimators=80 \n",
      "[CV]  max_depth=9, max_features=6, min_samples_split=7, n_estimators=80, score=(train=-0.004, test=-0.008), total=   3.1s\n",
      "[CV] max_depth=9, max_features=6, min_samples_split=7, n_estimators=80 \n",
      "[CV]  max_depth=9, max_features=6, min_samples_split=7, n_estimators=80, score=(train=-0.004, test=-0.007), total=   3.0s\n",
      "[CV] max_depth=9, max_features=6, min_samples_split=8, n_estimators=80 \n",
      "[CV]  max_depth=9, max_features=6, min_samples_split=8, n_estimators=80, score=(train=-0.004, test=-0.008), total=   3.0s\n",
      "[CV] max_depth=9, max_features=6, min_samples_split=8, n_estimators=80 \n",
      "[CV]  max_depth=9, max_features=6, min_samples_split=8, n_estimators=80, score=(train=-0.004, test=-0.007), total=   3.1s\n",
      "[CV] max_depth=9, max_features=6, min_samples_split=8, n_estimators=80 \n",
      "[CV]  max_depth=9, max_features=6, min_samples_split=8, n_estimators=80, score=(train=-0.004, test=-0.008), total=   3.1s\n",
      "[CV] max_depth=9, max_features=6, min_samples_split=8, n_estimators=80 \n",
      "[CV]  max_depth=9, max_features=6, min_samples_split=8, n_estimators=80, score=(train=-0.004, test=-0.008), total=   3.1s\n",
      "[CV] max_depth=9, max_features=6, min_samples_split=8, n_estimators=80 \n",
      "[CV]  max_depth=9, max_features=6, min_samples_split=8, n_estimators=80, score=(train=-0.004, test=-0.008), total=   3.1s\n",
      "[CV] max_depth=9, max_features=6, min_samples_split=9, n_estimators=80 \n",
      "[CV]  max_depth=9, max_features=6, min_samples_split=9, n_estimators=80, score=(train=-0.004, test=-0.008), total=   3.1s\n",
      "[CV] max_depth=9, max_features=6, min_samples_split=9, n_estimators=80 \n",
      "[CV]  max_depth=9, max_features=6, min_samples_split=9, n_estimators=80, score=(train=-0.004, test=-0.007), total=   3.1s\n",
      "[CV] max_depth=9, max_features=6, min_samples_split=9, n_estimators=80 \n",
      "[CV]  max_depth=9, max_features=6, min_samples_split=9, n_estimators=80, score=(train=-0.004, test=-0.008), total=   3.0s\n",
      "[CV] max_depth=9, max_features=6, min_samples_split=9, n_estimators=80 \n",
      "[CV]  max_depth=9, max_features=6, min_samples_split=9, n_estimators=80, score=(train=-0.004, test=-0.008), total=   3.1s\n",
      "[CV] max_depth=9, max_features=6, min_samples_split=9, n_estimators=80 \n",
      "[CV]  max_depth=9, max_features=6, min_samples_split=9, n_estimators=80, score=(train=-0.004, test=-0.007), total=   3.1s\n",
      "[CV] max_depth=9, max_features=6, min_samples_split=10, n_estimators=80 \n",
      "[CV]  max_depth=9, max_features=6, min_samples_split=10, n_estimators=80, score=(train=-0.004, test=-0.008), total=   3.1s\n",
      "[CV] max_depth=9, max_features=6, min_samples_split=10, n_estimators=80 \n",
      "[CV]  max_depth=9, max_features=6, min_samples_split=10, n_estimators=80, score=(train=-0.004, test=-0.007), total=   3.0s\n",
      "[CV] max_depth=9, max_features=6, min_samples_split=10, n_estimators=80 \n",
      "[CV]  max_depth=9, max_features=6, min_samples_split=10, n_estimators=80, score=(train=-0.004, test=-0.008), total=   3.1s\n",
      "[CV] max_depth=9, max_features=6, min_samples_split=10, n_estimators=80 \n",
      "[CV]  max_depth=9, max_features=6, min_samples_split=10, n_estimators=80, score=(train=-0.004, test=-0.008), total=   3.0s\n",
      "[CV] max_depth=9, max_features=6, min_samples_split=10, n_estimators=80 \n",
      "[CV]  max_depth=9, max_features=6, min_samples_split=10, n_estimators=80, score=(train=-0.004, test=-0.007), total=   3.0s\n",
      "[CV] max_depth=9, max_features=6, min_samples_split=11, n_estimators=80 \n",
      "[CV]  max_depth=9, max_features=6, min_samples_split=11, n_estimators=80, score=(train=-0.004, test=-0.008), total=   3.0s\n",
      "[CV] max_depth=9, max_features=6, min_samples_split=11, n_estimators=80 \n",
      "[CV]  max_depth=9, max_features=6, min_samples_split=11, n_estimators=80, score=(train=-0.004, test=-0.007), total=   3.1s\n",
      "[CV] max_depth=9, max_features=6, min_samples_split=11, n_estimators=80 \n",
      "[CV]  max_depth=9, max_features=6, min_samples_split=11, n_estimators=80, score=(train=-0.004, test=-0.008), total=   3.1s\n",
      "[CV] max_depth=9, max_features=6, min_samples_split=11, n_estimators=80 \n",
      "[CV]  max_depth=9, max_features=6, min_samples_split=11, n_estimators=80, score=(train=-0.004, test=-0.008), total=   3.1s\n",
      "[CV] max_depth=9, max_features=6, min_samples_split=11, n_estimators=80 \n",
      "[CV]  max_depth=9, max_features=6, min_samples_split=11, n_estimators=80, score=(train=-0.004, test=-0.008), total=   3.0s\n",
      "[CV] max_depth=9, max_features=6, min_samples_split=18, n_estimators=80 \n",
      "[CV]  max_depth=9, max_features=6, min_samples_split=18, n_estimators=80, score=(train=-0.004, test=-0.008), total=   3.1s\n",
      "[CV] max_depth=9, max_features=6, min_samples_split=18, n_estimators=80 \n",
      "[CV]  max_depth=9, max_features=6, min_samples_split=18, n_estimators=80, score=(train=-0.004, test=-0.007), total=   3.1s\n",
      "[CV] max_depth=9, max_features=6, min_samples_split=18, n_estimators=80 \n",
      "[CV]  max_depth=9, max_features=6, min_samples_split=18, n_estimators=80, score=(train=-0.004, test=-0.008), total=   3.0s\n",
      "[CV] max_depth=9, max_features=6, min_samples_split=18, n_estimators=80 \n",
      "[CV]  max_depth=9, max_features=6, min_samples_split=18, n_estimators=80, score=(train=-0.004, test=-0.008), total=   3.0s\n",
      "[CV] max_depth=9, max_features=6, min_samples_split=18, n_estimators=80 \n",
      "[CV]  max_depth=9, max_features=6, min_samples_split=18, n_estimators=80, score=(train=-0.004, test=-0.007), total=   3.0s\n",
      "[CV] max_depth=9, max_features=6, min_samples_split=19, n_estimators=80 \n",
      "[CV]  max_depth=9, max_features=6, min_samples_split=19, n_estimators=80, score=(train=-0.004, test=-0.008), total=   3.0s\n",
      "[CV] max_depth=9, max_features=6, min_samples_split=19, n_estimators=80 \n",
      "[CV]  max_depth=9, max_features=6, min_samples_split=19, n_estimators=80, score=(train=-0.004, test=-0.007), total=   3.0s\n",
      "[CV] max_depth=9, max_features=6, min_samples_split=19, n_estimators=80 \n",
      "[CV]  max_depth=9, max_features=6, min_samples_split=19, n_estimators=80, score=(train=-0.004, test=-0.008), total=   3.1s\n",
      "[CV] max_depth=9, max_features=6, min_samples_split=19, n_estimators=80 \n",
      "[CV]  max_depth=9, max_features=6, min_samples_split=19, n_estimators=80, score=(train=-0.004, test=-0.008), total=   3.0s\n",
      "[CV] max_depth=9, max_features=6, min_samples_split=19, n_estimators=80 \n",
      "[CV]  max_depth=9, max_features=6, min_samples_split=19, n_estimators=80, score=(train=-0.004, test=-0.007), total=   3.0s\n",
      "[CV] max_depth=9, max_features=6, min_samples_split=20, n_estimators=80 \n",
      "[CV]  max_depth=9, max_features=6, min_samples_split=20, n_estimators=80, score=(train=-0.004, test=-0.008), total=   3.0s\n",
      "[CV] max_depth=9, max_features=6, min_samples_split=20, n_estimators=80 \n",
      "[CV]  max_depth=9, max_features=6, min_samples_split=20, n_estimators=80, score=(train=-0.004, test=-0.007), total=   3.1s\n",
      "[CV] max_depth=9, max_features=6, min_samples_split=20, n_estimators=80 \n",
      "[CV]  max_depth=9, max_features=6, min_samples_split=20, n_estimators=80, score=(train=-0.004, test=-0.008), total=   3.0s\n",
      "[CV] max_depth=9, max_features=6, min_samples_split=20, n_estimators=80 \n",
      "[CV]  max_depth=9, max_features=6, min_samples_split=20, n_estimators=80, score=(train=-0.004, test=-0.008), total=   3.0s\n",
      "[CV] max_depth=9, max_features=6, min_samples_split=20, n_estimators=80 \n",
      "[CV]  max_depth=9, max_features=6, min_samples_split=20, n_estimators=80, score=(train=-0.004, test=-0.007), total=   3.0s\n",
      "[CV] max_depth=10, max_features=6, min_samples_split=7, n_estimators=80 \n",
      "[CV]  max_depth=10, max_features=6, min_samples_split=7, n_estimators=80, score=(train=-0.002, test=-0.008), total=   3.4s\n",
      "[CV] max_depth=10, max_features=6, min_samples_split=7, n_estimators=80 \n",
      "[CV]  max_depth=10, max_features=6, min_samples_split=7, n_estimators=80, score=(train=-0.002, test=-0.007), total=   3.4s\n",
      "[CV] max_depth=10, max_features=6, min_samples_split=7, n_estimators=80 \n",
      "[CV]  max_depth=10, max_features=6, min_samples_split=7, n_estimators=80, score=(train=-0.002, test=-0.008), total=   3.4s\n",
      "[CV] max_depth=10, max_features=6, min_samples_split=7, n_estimators=80 \n",
      "[CV]  max_depth=10, max_features=6, min_samples_split=7, n_estimators=80, score=(train=-0.003, test=-0.008), total=   3.4s\n",
      "[CV] max_depth=10, max_features=6, min_samples_split=7, n_estimators=80 \n",
      "[CV]  max_depth=10, max_features=6, min_samples_split=7, n_estimators=80, score=(train=-0.002, test=-0.008), total=   3.4s\n",
      "[CV] max_depth=10, max_features=6, min_samples_split=8, n_estimators=80 \n",
      "[CV]  max_depth=10, max_features=6, min_samples_split=8, n_estimators=80, score=(train=-0.003, test=-0.008), total=   3.4s\n",
      "[CV] max_depth=10, max_features=6, min_samples_split=8, n_estimators=80 \n",
      "[CV]  max_depth=10, max_features=6, min_samples_split=8, n_estimators=80, score=(train=-0.003, test=-0.007), total=   3.4s\n",
      "[CV] max_depth=10, max_features=6, min_samples_split=8, n_estimators=80 \n",
      "[CV]  max_depth=10, max_features=6, min_samples_split=8, n_estimators=80, score=(train=-0.003, test=-0.008), total=   3.4s\n",
      "[CV] max_depth=10, max_features=6, min_samples_split=8, n_estimators=80 \n",
      "[CV]  max_depth=10, max_features=6, min_samples_split=8, n_estimators=80, score=(train=-0.003, test=-0.008), total=   3.4s\n",
      "[CV] max_depth=10, max_features=6, min_samples_split=8, n_estimators=80 \n",
      "[CV]  max_depth=10, max_features=6, min_samples_split=8, n_estimators=80, score=(train=-0.003, test=-0.008), total=   3.4s\n",
      "[CV] max_depth=10, max_features=6, min_samples_split=9, n_estimators=80 \n",
      "[CV]  max_depth=10, max_features=6, min_samples_split=9, n_estimators=80, score=(train=-0.003, test=-0.008), total=   3.4s\n",
      "[CV] max_depth=10, max_features=6, min_samples_split=9, n_estimators=80 \n",
      "[CV]  max_depth=10, max_features=6, min_samples_split=9, n_estimators=80, score=(train=-0.003, test=-0.007), total=   3.4s\n",
      "[CV] max_depth=10, max_features=6, min_samples_split=9, n_estimators=80 \n",
      "[CV]  max_depth=10, max_features=6, min_samples_split=9, n_estimators=80, score=(train=-0.003, test=-0.008), total=   3.4s\n",
      "[CV] max_depth=10, max_features=6, min_samples_split=9, n_estimators=80 \n",
      "[CV]  max_depth=10, max_features=6, min_samples_split=9, n_estimators=80, score=(train=-0.003, test=-0.008), total=   3.4s\n",
      "[CV] max_depth=10, max_features=6, min_samples_split=9, n_estimators=80 \n",
      "[CV]  max_depth=10, max_features=6, min_samples_split=9, n_estimators=80, score=(train=-0.003, test=-0.008), total=   3.4s\n",
      "[CV] max_depth=10, max_features=6, min_samples_split=10, n_estimators=80 \n",
      "[CV]  max_depth=10, max_features=6, min_samples_split=10, n_estimators=80, score=(train=-0.003, test=-0.008), total=   3.4s\n",
      "[CV] max_depth=10, max_features=6, min_samples_split=10, n_estimators=80 \n",
      "[CV]  max_depth=10, max_features=6, min_samples_split=10, n_estimators=80, score=(train=-0.003, test=-0.007), total=   3.4s\n",
      "[CV] max_depth=10, max_features=6, min_samples_split=10, n_estimators=80 \n",
      "[CV]  max_depth=10, max_features=6, min_samples_split=10, n_estimators=80, score=(train=-0.003, test=-0.008), total=   3.4s\n",
      "[CV] max_depth=10, max_features=6, min_samples_split=10, n_estimators=80 \n",
      "[CV]  max_depth=10, max_features=6, min_samples_split=10, n_estimators=80, score=(train=-0.003, test=-0.008), total=   3.4s\n",
      "[CV] max_depth=10, max_features=6, min_samples_split=10, n_estimators=80 \n",
      "[CV]  max_depth=10, max_features=6, min_samples_split=10, n_estimators=80, score=(train=-0.003, test=-0.008), total=   3.4s\n",
      "[CV] max_depth=10, max_features=6, min_samples_split=11, n_estimators=80 \n",
      "[CV]  max_depth=10, max_features=6, min_samples_split=11, n_estimators=80, score=(train=-0.003, test=-0.008), total=   3.4s\n",
      "[CV] max_depth=10, max_features=6, min_samples_split=11, n_estimators=80 \n",
      "[CV]  max_depth=10, max_features=6, min_samples_split=11, n_estimators=80, score=(train=-0.003, test=-0.007), total=   3.4s\n",
      "[CV] max_depth=10, max_features=6, min_samples_split=11, n_estimators=80 \n",
      "[CV]  max_depth=10, max_features=6, min_samples_split=11, n_estimators=80, score=(train=-0.003, test=-0.008), total=   3.3s\n",
      "[CV] max_depth=10, max_features=6, min_samples_split=11, n_estimators=80 \n",
      "[CV]  max_depth=10, max_features=6, min_samples_split=11, n_estimators=80, score=(train=-0.003, test=-0.008), total=   3.4s\n",
      "[CV] max_depth=10, max_features=6, min_samples_split=11, n_estimators=80 \n",
      "[CV]  max_depth=10, max_features=6, min_samples_split=11, n_estimators=80, score=(train=-0.003, test=-0.008), total=   3.4s\n",
      "[CV] max_depth=10, max_features=6, min_samples_split=18, n_estimators=80 \n",
      "[CV]  max_depth=10, max_features=6, min_samples_split=18, n_estimators=80, score=(train=-0.003, test=-0.008), total=   3.3s\n",
      "[CV] max_depth=10, max_features=6, min_samples_split=18, n_estimators=80 \n",
      "[CV]  max_depth=10, max_features=6, min_samples_split=18, n_estimators=80, score=(train=-0.003, test=-0.007), total=   3.4s\n",
      "[CV] max_depth=10, max_features=6, min_samples_split=18, n_estimators=80 \n",
      "[CV]  max_depth=10, max_features=6, min_samples_split=18, n_estimators=80, score=(train=-0.003, test=-0.008), total=   3.4s\n",
      "[CV] max_depth=10, max_features=6, min_samples_split=18, n_estimators=80 \n",
      "[CV]  max_depth=10, max_features=6, min_samples_split=18, n_estimators=80, score=(train=-0.003, test=-0.008), total=   3.4s\n",
      "[CV] max_depth=10, max_features=6, min_samples_split=18, n_estimators=80 \n",
      "[CV]  max_depth=10, max_features=6, min_samples_split=18, n_estimators=80, score=(train=-0.003, test=-0.007), total=   3.4s\n",
      "[CV] max_depth=10, max_features=6, min_samples_split=19, n_estimators=80 \n",
      "[CV]  max_depth=10, max_features=6, min_samples_split=19, n_estimators=80, score=(train=-0.003, test=-0.008), total=   3.4s\n",
      "[CV] max_depth=10, max_features=6, min_samples_split=19, n_estimators=80 \n",
      "[CV]  max_depth=10, max_features=6, min_samples_split=19, n_estimators=80, score=(train=-0.003, test=-0.007), total=   3.3s\n",
      "[CV] max_depth=10, max_features=6, min_samples_split=19, n_estimators=80 \n",
      "[CV]  max_depth=10, max_features=6, min_samples_split=19, n_estimators=80, score=(train=-0.003, test=-0.008), total=   3.4s\n",
      "[CV] max_depth=10, max_features=6, min_samples_split=19, n_estimators=80 \n",
      "[CV]  max_depth=10, max_features=6, min_samples_split=19, n_estimators=80, score=(train=-0.003, test=-0.008), total=   3.4s\n",
      "[CV] max_depth=10, max_features=6, min_samples_split=19, n_estimators=80 \n",
      "[CV]  max_depth=10, max_features=6, min_samples_split=19, n_estimators=80, score=(train=-0.003, test=-0.007), total=   3.4s\n",
      "[CV] max_depth=10, max_features=6, min_samples_split=20, n_estimators=80 \n",
      "[CV]  max_depth=10, max_features=6, min_samples_split=20, n_estimators=80, score=(train=-0.003, test=-0.008), total=   3.4s\n",
      "[CV] max_depth=10, max_features=6, min_samples_split=20, n_estimators=80 \n",
      "[CV]  max_depth=10, max_features=6, min_samples_split=20, n_estimators=80, score=(train=-0.003, test=-0.007), total=   3.4s\n",
      "[CV] max_depth=10, max_features=6, min_samples_split=20, n_estimators=80 \n",
      "[CV]  max_depth=10, max_features=6, min_samples_split=20, n_estimators=80, score=(train=-0.003, test=-0.008), total=   3.4s\n",
      "[CV] max_depth=10, max_features=6, min_samples_split=20, n_estimators=80 \n",
      "[CV]  max_depth=10, max_features=6, min_samples_split=20, n_estimators=80, score=(train=-0.003, test=-0.008), total=   3.3s\n",
      "[CV] max_depth=10, max_features=6, min_samples_split=20, n_estimators=80 \n",
      "[CV]  max_depth=10, max_features=6, min_samples_split=20, n_estimators=80, score=(train=-0.003, test=-0.008), total=   3.3s\n"
     ]
    },
    {
     "name": "stderr",
     "output_type": "stream",
     "text": [
      "[Parallel(n_jobs=1)]: Done 160 out of 160 | elapsed:  8.0min finished\n"
     ]
    },
    {
     "data": {
      "text/plain": [
       "GridSearchCV(cv=5, estimator=GradientBoostingRegressor(),\n",
       "             param_grid={'max_depth': [7, 8, 9, 10], 'max_features': [6],\n",
       "                         'min_samples_split': [7, 8, 9, 10, 11, 18, 19, 20],\n",
       "                         'n_estimators': [80]},\n",
       "             return_train_score=True, scoring='neg_mean_squared_error',\n",
       "             verbose=3)"
      ]
     },
     "execution_count": 34,
     "metadata": {},
     "output_type": "execute_result"
    }
   ],
   "source": [
    "gs.fit(X_train, y_train)"
   ]
  },
  {
   "cell_type": "code",
   "execution_count": 35,
   "metadata": {},
   "outputs": [],
   "source": [
    "grid_search_results = pd.DataFrame(gs.cv_results_)\n",
    "# we only keep some of the information\n",
    "grid_search_results = grid_search_results[['param_max_depth', 'param_max_features', 'param_min_samples_split',\n",
    "       'mean_test_score', 'mean_train_score']]"
   ]
  },
  {
   "cell_type": "code",
   "execution_count": 36,
   "metadata": {},
   "outputs": [
    {
     "data": {
      "text/html": [
       "<div>\n",
       "<style scoped>\n",
       "    .dataframe tbody tr th:only-of-type {\n",
       "        vertical-align: middle;\n",
       "    }\n",
       "\n",
       "    .dataframe tbody tr th {\n",
       "        vertical-align: top;\n",
       "    }\n",
       "\n",
       "    .dataframe thead th {\n",
       "        text-align: right;\n",
       "    }\n",
       "</style>\n",
       "<table border=\"1\" class=\"dataframe\">\n",
       "  <thead>\n",
       "    <tr style=\"text-align: right;\">\n",
       "      <th></th>\n",
       "      <th>param_max_depth</th>\n",
       "      <th>param_max_features</th>\n",
       "      <th>param_min_samples_split</th>\n",
       "      <th>mean_test_score</th>\n",
       "      <th>mean_train_score</th>\n",
       "    </tr>\n",
       "  </thead>\n",
       "  <tbody>\n",
       "    <tr>\n",
       "      <th>22</th>\n",
       "      <td>9</td>\n",
       "      <td>6</td>\n",
       "      <td>19</td>\n",
       "      <td>-0.007580</td>\n",
       "      <td>-0.003889</td>\n",
       "    </tr>\n",
       "    <tr>\n",
       "      <th>21</th>\n",
       "      <td>9</td>\n",
       "      <td>6</td>\n",
       "      <td>18</td>\n",
       "      <td>-0.007599</td>\n",
       "      <td>-0.003881</td>\n",
       "    </tr>\n",
       "    <tr>\n",
       "      <th>16</th>\n",
       "      <td>9</td>\n",
       "      <td>6</td>\n",
       "      <td>7</td>\n",
       "      <td>-0.007604</td>\n",
       "      <td>-0.003559</td>\n",
       "    </tr>\n",
       "    <tr>\n",
       "      <th>11</th>\n",
       "      <td>8</td>\n",
       "      <td>6</td>\n",
       "      <td>10</td>\n",
       "      <td>-0.007609</td>\n",
       "      <td>-0.004720</td>\n",
       "    </tr>\n",
       "    <tr>\n",
       "      <th>23</th>\n",
       "      <td>9</td>\n",
       "      <td>6</td>\n",
       "      <td>20</td>\n",
       "      <td>-0.007610</td>\n",
       "      <td>-0.003912</td>\n",
       "    </tr>\n",
       "    <tr>\n",
       "      <th>18</th>\n",
       "      <td>9</td>\n",
       "      <td>6</td>\n",
       "      <td>9</td>\n",
       "      <td>-0.007611</td>\n",
       "      <td>-0.003641</td>\n",
       "    </tr>\n",
       "    <tr>\n",
       "      <th>30</th>\n",
       "      <td>10</td>\n",
       "      <td>6</td>\n",
       "      <td>19</td>\n",
       "      <td>-0.007631</td>\n",
       "      <td>-0.002985</td>\n",
       "    </tr>\n",
       "    <tr>\n",
       "      <th>12</th>\n",
       "      <td>8</td>\n",
       "      <td>6</td>\n",
       "      <td>11</td>\n",
       "      <td>-0.007646</td>\n",
       "      <td>-0.004760</td>\n",
       "    </tr>\n",
       "    <tr>\n",
       "      <th>19</th>\n",
       "      <td>9</td>\n",
       "      <td>6</td>\n",
       "      <td>10</td>\n",
       "      <td>-0.007647</td>\n",
       "      <td>-0.003676</td>\n",
       "    </tr>\n",
       "    <tr>\n",
       "      <th>14</th>\n",
       "      <td>8</td>\n",
       "      <td>6</td>\n",
       "      <td>19</td>\n",
       "      <td>-0.007650</td>\n",
       "      <td>-0.004880</td>\n",
       "    </tr>\n",
       "  </tbody>\n",
       "</table>\n",
       "</div>"
      ],
      "text/plain": [
       "   param_max_depth param_max_features param_min_samples_split  \\\n",
       "22               9                  6                      19   \n",
       "21               9                  6                      18   \n",
       "16               9                  6                       7   \n",
       "11               8                  6                      10   \n",
       "23               9                  6                      20   \n",
       "18               9                  6                       9   \n",
       "30              10                  6                      19   \n",
       "12               8                  6                      11   \n",
       "19               9                  6                      10   \n",
       "14               8                  6                      19   \n",
       "\n",
       "    mean_test_score  mean_train_score  \n",
       "22        -0.007580         -0.003889  \n",
       "21        -0.007599         -0.003881  \n",
       "16        -0.007604         -0.003559  \n",
       "11        -0.007609         -0.004720  \n",
       "23        -0.007610         -0.003912  \n",
       "18        -0.007611         -0.003641  \n",
       "30        -0.007631         -0.002985  \n",
       "12        -0.007646         -0.004760  \n",
       "19        -0.007647         -0.003676  \n",
       "14        -0.007650         -0.004880  "
      ]
     },
     "execution_count": 36,
     "metadata": {},
     "output_type": "execute_result"
    }
   ],
   "source": [
    "grid_search_results.sort_values(\"mean_test_score\", ascending=False).head(10)"
   ]
  },
  {
   "cell_type": "code",
   "execution_count": 32,
   "metadata": {},
   "outputs": [],
   "source": [
    "best_boostalldf = gs.best_estimator_"
   ]
  },
  {
   "cell_type": "code",
   "execution_count": 33,
   "metadata": {},
   "outputs": [
    {
     "data": {
      "text/plain": [
       "GradientBoostingRegressor(max_depth=9, max_features=6, min_samples_split=8)"
      ]
     },
     "execution_count": 33,
     "metadata": {},
     "output_type": "execute_result"
    }
   ],
   "source": [
    "best_boostalldf"
   ]
  },
  {
   "cell_type": "markdown",
   "metadata": {},
   "source": [
    "### Creandolo sin test"
   ]
  },
  {
   "cell_type": "code",
   "execution_count": null,
   "metadata": {},
   "outputs": [],
   "source": []
  },
  {
   "cell_type": "code",
   "execution_count": null,
   "metadata": {},
   "outputs": [],
   "source": []
  },
  {
   "cell_type": "code",
   "execution_count": 34,
   "metadata": {},
   "outputs": [],
   "source": [
    "import pickle"
   ]
  },
  {
   "cell_type": "code",
   "execution_count": 64,
   "metadata": {},
   "outputs": [],
   "source": [
    "pickle.dump(best_tree, open(\"1tree\", \"wb\"))"
   ]
  },
  {
   "cell_type": "code",
   "execution_count": 82,
   "metadata": {},
   "outputs": [],
   "source": [
    "pickle.dump(best_tree, open(\"2tree05\", \"wb\"))"
   ]
  },
  {
   "cell_type": "code",
   "execution_count": 78,
   "metadata": {},
   "outputs": [],
   "source": [
    "pickle.dump(best_boost, open(\"2boost\", \"wb\"))\n",
    "#GradientBoostingRegressor(max_depth=12, max_features=6, min_samples_split=24)"
   ]
  },
  {
   "cell_type": "code",
   "execution_count": 35,
   "metadata": {},
   "outputs": [],
   "source": [
    "pickle.dump(best_boostalldf, open(\"2boostalldf\", \"wb\"))"
   ]
  },
  {
   "cell_type": "code",
   "execution_count": null,
   "metadata": {},
   "outputs": [],
   "source": []
  },
  {
   "cell_type": "code",
   "execution_count": null,
   "metadata": {},
   "outputs": [],
   "source": []
  }
 ],
 "metadata": {
  "kernelspec": {
   "display_name": "Python 3",
   "language": "python",
   "name": "python3"
  },
  "language_info": {
   "codemirror_mode": {
    "name": "ipython",
    "version": 3
   },
   "file_extension": ".py",
   "mimetype": "text/x-python",
   "name": "python",
   "nbconvert_exporter": "python",
   "pygments_lexer": "ipython3",
   "version": "3.8.5"
  }
 },
 "nbformat": 4,
 "nbformat_minor": 4
}
